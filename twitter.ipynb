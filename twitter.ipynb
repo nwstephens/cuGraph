{
 "cells": [
  {
   "cell_type": "markdown",
   "id": "9e351cb9-8883-4e89-8d9b-6c34488536fe",
   "metadata": {},
   "source": [
    "# Twitter data analysis\n",
    "\n",
    "We will be analyzing **1.47 billion social relations** on 41.7 million user profiles from the Twitter dataset.  The CSV file is 26GB and was collected in :<br>\n",
    "*What is Twitter, a social network or a news media? Haewoon Kwak, Changhyun Lee, Hosung Park, and Sue Moon. 2010.*<br> "
   ]
  },
  {
   "cell_type": "code",
   "execution_count": null,
   "id": "5c523ce1-6fdc-49e0-bf5e-94f9dbf21330",
   "metadata": {},
   "outputs": [],
   "source": [
    "import cudf \n",
    "import cugraph "
   ]
  },
  {
   "cell_type": "markdown",
   "id": "88cb6446-be23-48cd-9999-9133b72ad9f4",
   "metadata": {},
   "source": [
    "### Read data"
   ]
  },
  {
   "cell_type": "code",
   "execution_count": null,
   "id": "2d4a1ef8-f3fe-4d8d-9f5a-56902c723b08",
   "metadata": {},
   "outputs": [],
   "source": [
    "!wget https://s3.us-east-2.amazonaws.com/rapidsai-data/cugraph/benchmark/twitter-2010.csv.gz\n",
    "!tar xzvf twitter-2010.csv.gz"
   ]
  },
  {
   "cell_type": "code",
   "execution_count": null,
   "id": "a0d414ac-3fa4-4322-9c6f-4333937294d5",
   "metadata": {},
   "outputs": [],
   "source": [
    "e_list = cudf.read_csv('../data/twitter-2010.csv', delimiter=' ', names=['src', 'dst'], dtype=['int32', 'int32'], nrows=1e8)"
   ]
  },
  {
   "cell_type": "markdown",
   "id": "37001687-37de-45f5-94c6-b77bb4f2b0aa",
   "metadata": {},
   "source": [
    "### Initialize graph"
   ]
  },
  {
   "cell_type": "code",
   "execution_count": null,
   "id": "80aeba61-8b85-460c-80f9-be10d2a7cbf1",
   "metadata": {},
   "outputs": [],
   "source": [
    "G = cugraph.DiGraph()\n",
    "G.from_cudf_edgelist(e_list, source='src', destination='dst', renumber=False)"
   ]
  },
  {
   "cell_type": "markdown",
   "id": "5101b673-689c-4097-9e7d-4eba8040fd28",
   "metadata": {},
   "source": [
    "### Page rank"
   ]
  },
  {
   "cell_type": "code",
   "execution_count": null,
   "id": "2ce1fa6e-ceaf-47ad-a5c3-c17b5eb9881c",
   "metadata": {},
   "outputs": [],
   "source": [
    "pr_df = cugraph.pagerank(G, tol=1e-4)\n",
    "pr_df.sort_values('pagerank',ascending=False)"
   ]
  }
 ],
 "metadata": {
  "kernelspec": {
   "display_name": "Python 3 (ipykernel)",
   "language": "python",
   "name": "python3"
  },
  "language_info": {
   "codemirror_mode": {
    "name": "ipython",
    "version": 3
   },
   "file_extension": ".py",
   "mimetype": "text/x-python",
   "name": "python",
   "nbconvert_exporter": "python",
   "pygments_lexer": "ipython3",
   "version": "3.8.13"
  }
 },
 "nbformat": 4,
 "nbformat_minor": 5
}
